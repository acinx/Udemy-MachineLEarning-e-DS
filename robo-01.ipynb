{
 "cells": [
  {
   "cell_type": "markdown",
   "id": "67b30b45",
   "metadata": {},
   "source": [
    "### ROBÔS"
   ]
  },
  {
   "cell_type": "markdown",
   "id": "4c48b12e",
   "metadata": {},
   "source": [
    "Vamos fazer um joguinho que permita que um robô ande por uma matriz 10x10 e encontre recompensas, remos utilizar Orientação a Objetos(OO)\n",
    "A matriz vai de 0x0 até 10x10\n"
   ]
  },
  {
   "cell_type": "code",
   "execution_count": 83,
   "id": "95214cad",
   "metadata": {},
   "outputs": [],
   "source": [
    "class Point(object): # qualquer ponto\n",
    "    \n",
    "    def __init__(self,x,y):\n",
    "        self.x = x\n",
    "        self.y = y\n",
    "        \n",
    "    def __str__(self):\n",
    "        return \" <%s, %s>\" % (self.x,self.y)"
   ]
  },
  {
   "cell_type": "code",
   "execution_count": 84,
   "id": "78087ac0",
   "metadata": {},
   "outputs": [],
   "source": [
    "class Reward(Point): # o que a recompensa representa\n",
    "    \n",
    "    def __init__(self,x,y,name):\n",
    "        super(Reward,self).__init__(x,y)\n",
    "        self.name = name\n",
    "    \n",
    "    def __str__(self):\n",
    "        return \"<%s, %s>: %s\" % (self.x,self.y,self.name)\n",
    "    \n",
    "    def __repr__(self):\n",
    "        return \"<Reward> %s\" % str(self) "
   ]
  },
  {
   "cell_type": "code",
   "execution_count": 34,
   "id": "55e6998f",
   "metadata": {},
   "outputs": [
    {
     "name": "stdout",
     "output_type": "stream",
     "text": [
      "1\n",
      "moeda de ouro\n"
     ]
    }
   ],
   "source": []
  },
  {
   "cell_type": "code",
   "execution_count": 85,
   "id": "fe1ca662",
   "metadata": {},
   "outputs": [],
   "source": [
    "##criar classes\n",
    "class Robo(object):\n",
    "    #construtor\n",
    "    def __init__(self,x,y):\n",
    "        self.x =x\n",
    "        self.y=y\n",
    "        \n",
    "    def move_up(self):\n",
    "        if self.y < 10:\n",
    "            self.y=self.y + 1\n",
    "        else:\n",
    "            print(\"Movimento Proibido\")\n",
    "    \n",
    "    def move_down(self):\n",
    "        if self.y > 0:\n",
    "            self.y=self.y - 1\n",
    "        else:\n",
    "            print(\"Movimento Proibido\")\n",
    "        \n",
    "    def move_left(self):\n",
    "        if self.x > 0:\n",
    "            self.x = self.x - 1\n",
    "        else:\n",
    "            print(\"Movimento Proibido\")\n",
    "        \n",
    "    def move_right(self):\n",
    "        if self.x < 10:\n",
    "            self.x = self.x + 1\n",
    "        else:\n",
    "            print(\"Movimento Proibido\")\n",
    "      \n"
   ]
  },
  {
   "cell_type": "code",
   "execution_count": 86,
   "id": "61ad10d6",
   "metadata": {},
   "outputs": [],
   "source": [
    "def check_reward(robot,rewards):\n",
    "    ok= False\n",
    "    for reward in rewards:\n",
    "        if reward.x == robot.x and reward.y == robot.y:\n",
    "            print(\"O robô achou a recompensa: %s\" % reward.name)\n",
    "            ok= True\n",
    "    return ok"
   ]
  },
  {
   "cell_type": "code",
   "execution_count": 87,
   "id": "862207b6",
   "metadata": {},
   "outputs": [],
   "source": [
    "import random "
   ]
  },
  {
   "cell_type": "code",
   "execution_count": 88,
   "id": "634f2a8b",
   "metadata": {},
   "outputs": [],
   "source": [
    "r1 = Reward(random.randint(0,10), random.randint(0,10), \"moeda\")\n",
    "r2 = Reward(random.randint(0,10), random.randint(0,10), \"gasolina\")\n",
    "r3 = Reward(random.randint(0,10), random.randint(0,10), \"arma\")\n",
    "rewards = [r1,r2,r3]\n"
   ]
  },
  {
   "cell_type": "code",
   "execution_count": 89,
   "id": "032827bc",
   "metadata": {},
   "outputs": [],
   "source": [
    "robot = Robo(random.randint(0,10), random.randint(0,10))\n"
   ]
  },
  {
   "cell_type": "code",
   "execution_count": null,
   "id": "86102f2f",
   "metadata": {},
   "outputs": [
    {
     "name": "stdout",
     "output_type": "stream",
     "text": [
      "Digite up, down, left ou right para o movimento: up\n",
      "<__main__.Robo object at 0x000001835A0213D0>\n"
     ]
    }
   ],
   "source": [
    "for i in range(10):\n",
    "    movimento = input(\"Digite up, down, left ou right para o movimento: \")\n",
    "    if movimento == \"up\":\n",
    "        robot.move_up()\n",
    "    elif movimento ==\"down\":\n",
    "        robot.move_down()\n",
    "    elif movimento == \"left\":\n",
    "        robot.move_left()\n",
    "    elif movimento == \"right\":\n",
    "        robot.move_right()\n",
    "    else:\n",
    "        print(\"movimento invalido! \")\n",
    "        continue\n",
    "    print(robot)\n",
    "    check_reward(robot, rewards)"
   ]
  },
  {
   "cell_type": "code",
   "execution_count": 59,
   "id": "5fb87e2e",
   "metadata": {},
   "outputs": [],
   "source": []
  },
  {
   "cell_type": "code",
   "execution_count": 47,
   "id": "c78b1e59",
   "metadata": {},
   "outputs": [
    {
     "data": {
      "text/plain": [
       "False"
      ]
     },
     "execution_count": 47,
     "metadata": {},
     "output_type": "execute_result"
    }
   ],
   "source": []
  },
  {
   "cell_type": "code",
   "execution_count": 48,
   "id": "d836f56a",
   "metadata": {},
   "outputs": [],
   "source": []
  },
  {
   "cell_type": "code",
   "execution_count": 49,
   "id": "5fff1e15",
   "metadata": {},
   "outputs": [
    {
     "name": "stdout",
     "output_type": "stream",
     "text": [
      "O robô achou a recompensa: moeda\n"
     ]
    },
    {
     "data": {
      "text/plain": [
       "True"
      ]
     },
     "execution_count": 49,
     "metadata": {},
     "output_type": "execute_result"
    }
   ],
   "source": []
  },
  {
   "cell_type": "code",
   "execution_count": 13,
   "id": "7a0abc8a",
   "metadata": {},
   "outputs": [],
   "source": [
    "    "
   ]
  },
  {
   "cell_type": "code",
   "execution_count": 14,
   "id": "bca5cfba",
   "metadata": {},
   "outputs": [
    {
     "data": {
      "text/plain": [
       "5"
      ]
     },
     "execution_count": 14,
     "metadata": {},
     "output_type": "execute_result"
    }
   ],
   "source": []
  }
 ],
 "metadata": {
  "kernelspec": {
   "display_name": "Python 3 (ipykernel)",
   "language": "python",
   "name": "python3"
  },
  "language_info": {
   "codemirror_mode": {
    "name": "ipython",
    "version": 3
   },
   "file_extension": ".py",
   "mimetype": "text/x-python",
   "name": "python",
   "nbconvert_exporter": "python",
   "pygments_lexer": "ipython3",
   "version": "3.9.12"
  }
 },
 "nbformat": 4,
 "nbformat_minor": 5
}
